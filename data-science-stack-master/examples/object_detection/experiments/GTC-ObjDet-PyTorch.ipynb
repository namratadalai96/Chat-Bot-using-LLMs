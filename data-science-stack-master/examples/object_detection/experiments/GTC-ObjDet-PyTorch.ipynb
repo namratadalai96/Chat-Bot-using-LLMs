{
 "cells": [
  {
   "cell_type": "markdown",
   "metadata": {},
   "source": [
    "<img src=\"https://raw.githubusercontent.com/determined-ai/determined/master/determined-logo.png\" align=\"right\" width=\"150\" />\n",
    "\n",
    "# Training and Scaling your Model Computer Vision model with Determined AI"
   ]
  },
  {
   "cell_type": "markdown",
   "metadata": {},
   "source": [
    "<img src=\"https://www.cis.upenn.edu/~jshi/ped_html/images/PennPed00071_1.png\" align=\"center\" width=\"600\" />\n",
    "\n",
    "This notebook will walk through the benefits of building a Deep Learning model with Determined.  We will build an object detection model trained on the [Penn-Fudan Database for Pedestrian Detection and Segmentation](https://www.cis.upenn.edu/~jshi/ped_html/)."
   ]
  },
  {
   "cell_type": "markdown",
   "metadata": {},
   "source": [
    "# Prep"
   ]
  },
  {
   "cell_type": "markdown",
   "metadata": {},
   "source": [
    "We'll be creating a `checkpoints` directory later. This `.detignore` will ensure we don't upload that directory along with our model code when we start an experiment!"
   ]
  },
  {
   "cell_type": "code",
   "execution_count": null,
   "metadata": {},
   "outputs": [],
   "source": [
    "!echo \"checkpoints\" >> .detignore"
   ]
  },
  {
   "cell_type": "markdown",
   "metadata": {},
   "source": [
    "-----"
   ]
  },
  {
   "cell_type": "markdown",
   "metadata": {},
   "source": [
    "# Imagine..."
   ]
  },
  {
   "cell_type": "markdown",
   "metadata": {},
   "source": [
    "### You're a **model developer** and you've been tasked with developing a **computer vision model**."
   ]
  },
  {
   "cell_type": "markdown",
   "metadata": {},
   "source": [
    "# **MNIST**!\n",
    "\n",
    "<img src=\"http://neupy.com/_images/random-digits.png\" />"
   ]
  },
  {
   "cell_type": "code",
   "execution_count": null,
   "metadata": {},
   "outputs": [],
   "source": [
    "# Illustrative MNIST run...\n",
    "\n",
    "#!git clone https://github.com/pytorch/examples\n",
    "#%cd examples/mnistip install -qr requirements.txt\n",
    "#!python main.py --epochs=50 --batch-size=64"
   ]
  },
  {
   "cell_type": "markdown",
   "metadata": {},
   "source": [
    "### Clarification: An actually *useful* computer vision model"
   ]
  },
  {
   "cell_type": "markdown",
   "metadata": {},
   "source": [
    "We'll be training a Pedestrian Detection model with PyTorch!"
   ]
  },
  {
   "cell_type": "markdown",
   "metadata": {},
   "source": [
    "## **Object Detection with PyTorch**\n"
   ]
  },
  {
   "cell_type": "markdown",
   "metadata": {},
   "source": [
    "### Google an off-the-shelf Object Detection model"
   ]
  },
  {
   "cell_type": "code",
   "execution_count": null,
   "metadata": {},
   "outputs": [],
   "source": [
    "# Illustrative model training...\n",
    "\n",
    "#!git clone <model_repo>\n",
    "#%cd repo\n",
    "#!python main.py"
   ]
  },
  {
   "cell_type": "markdown",
   "metadata": {},
   "source": [
    "### You've got your model training, but now you're thinking:"
   ]
  },
  {
   "cell_type": "markdown",
   "metadata": {},
   "source": [
    "- [x] Find a model\n",
    "- [x] Training\n",
    "- [ ] Checkpointing?\n",
    "- [ ] Fault tolerance??\n",
    "- [ ] Visualization???"
   ]
  },
  {
   "cell_type": "markdown",
   "metadata": {},
   "source": [
    "------------"
   ]
  },
  {
   "cell_type": "markdown",
   "metadata": {},
   "source": [
    "# **Day 2** of Model Development with Determined AI"
   ]
  },
  {
   "cell_type": "markdown",
   "metadata": {},
   "source": [
    "If Day 1 was about finding your model and making sure it ran, Day 2 of model development is about making sure your model is manageable and scalable."
   ]
  },
  {
   "cell_type": "markdown",
   "metadata": {},
   "source": [
    "<img src=\"https://determined.ai/assets/images/developers/determined-components.jpg\" align=\"center\" width=\"1000\" />"
   ]
  },
  {
   "cell_type": "markdown",
   "metadata": {},
   "source": [
    "## Here’s where Determined’s platform starts to come in handy:"
   ]
  },
  {
   "cell_type": "markdown",
   "metadata": {},
   "source": [
    "### 1. Structure your code to adhere to the Determined APIs."
   ]
  },
  {
   "cell_type": "markdown",
   "metadata": {},
   "source": [
    "#### Example Determined model repository: *this one!*"
   ]
  },
  {
   "cell_type": "markdown",
   "metadata": {},
   "source": [
    "### 2. Install Determined Locally"
   ]
  },
  {
   "cell_type": "markdown",
   "metadata": {},
   "source": [
    "#### Example command to install Determined locally"
   ]
  },
  {
   "cell_type": "code",
   "execution_count": 1,
   "metadata": {},
   "outputs": [],
   "source": [
    "# !pip install determined-cli\n",
    "# !det deploy local cluster-up <--no-gpu if you do not have a GPU>"
   ]
  },
  {
   "cell_type": "markdown",
   "metadata": {},
   "source": [
    "*Full instructions to install Determined: https://docs.determined.ai/latest/index.html"
   ]
  },
  {
   "cell_type": "markdown",
   "metadata": {},
   "source": [
    "#### 3. Launch your model and train it on your local cluster:"
   ]
  },
  {
   "cell_type": "markdown",
   "metadata": {},
   "source": [
    "<img src=\"https://github.com/determined-ai/public_assets/blob/c7dca8d616c3e5c87eac46dd164bf8a8c2ee46d1/images/StartAnExperiment.png?raw=true\" width=\"450\" align=\"left\" />"
   ]
  },
  {
   "cell_type": "code",
   "execution_count": null,
   "metadata": {},
   "outputs": [],
   "source": [
    "!det experiment create standard.yaml ."
   ]
  },
  {
   "cell_type": "markdown",
   "metadata": {},
   "source": [
    "**Note**: *Experiments will take slightly longer the first time they are executed on any given Determined installation since Determined will pull the appropriate Docker containers to run the experiment. After the first run, the containers are cached and reused.*"
   ]
  },
  {
   "cell_type": "markdown",
   "metadata": {},
   "source": [
    "## So what's happening on the backend\n",
    "### AKA Infrastructure you don't need to worry about"
   ]
  },
  {
   "cell_type": "markdown",
   "metadata": {},
   "source": [
    "<img src=\"https://github.com/determined-ai/public_assets/blob/main/images/1GPUexperiment.png?raw=true\" align=\"left\" width=\"600\" />"
   ]
  },
  {
   "cell_type": "markdown",
   "metadata": {},
   "source": [
    "## Local Inference"
   ]
  },
  {
   "cell_type": "markdown",
   "metadata": {},
   "source": [
    "#### See how the trained model performs on a local image"
   ]
  },
  {
   "cell_type": "markdown",
   "metadata": {},
   "source": [
    "**Note**: *Check the Determined Web UI to make sure the experiment is `Complete` before trying to run predictions*"
   ]
  },
  {
   "cell_type": "code",
   "execution_count": null,
   "metadata": {},
   "outputs": [],
   "source": [
    "from support.helper import predict"
   ]
  },
  {
   "cell_type": "code",
   "execution_count": null,
   "metadata": {},
   "outputs": [],
   "source": [
    "experiment_id = <experiment id>\n",
    "predict(experiment_id, \"test.jpg\")"
   ]
  },
  {
   "cell_type": "markdown",
   "metadata": {},
   "source": [
    "**Note**: *Model training is a stochastic process so expect variable results, especially with the shortened training time used in this experiment. Feel free to update the configuration `.yaml` files to train for more epochs to ensure convergence.*"
   ]
  },
  {
   "cell_type": "markdown",
   "metadata": {},
   "source": [
    "----"
   ]
  },
  {
   "cell_type": "markdown",
   "metadata": {},
   "source": [
    "# **Multi-GPU training**"
   ]
  },
  {
   "cell_type": "markdown",
   "metadata": {},
   "source": [
    "#### Example of configuration change to enable multi-GPU training"
   ]
  },
  {
   "cell_type": "markdown",
   "metadata": {},
   "source": [
    "<img src=\"https://github.com/determined-ai/public_assets/blob/main/images/DistributedTrainingConfig.png?raw=true\" align=\"left\" width=\"800\" />"
   ]
  },
  {
   "cell_type": "markdown",
   "metadata": {},
   "source": [
    "### Launch a multi-GPU training job"
   ]
  },
  {
   "cell_type": "markdown",
   "metadata": {},
   "source": [
    "You can install Determined on a local machine with multiple GPUs the same way as before, with:"
   ]
  },
  {
   "cell_type": "code",
   "execution_count": 2,
   "metadata": {},
   "outputs": [],
   "source": [
    "# !pip install determined-cli\n",
    "# !det deploy local cluster-up <--no-gpu if you do not have a GPU>"
   ]
  },
  {
   "cell_type": "markdown",
   "metadata": {},
   "source": [
    "If you'd like to install in the cloud to get more GPUs, skip to the next section: **Cloud cluster** for installation instructions, then come back to run this experiment."
   ]
  },
  {
   "cell_type": "code",
   "execution_count": null,
   "metadata": {},
   "outputs": [],
   "source": [
    "DET_MASTER=\"your-remote-cluster-ip\" # e.g. 35.128.23.11"
   ]
  },
  {
   "cell_type": "code",
   "execution_count": null,
   "metadata": {},
   "outputs": [],
   "source": [
    "!det -m $DET_MASTER experiment create multi.yaml ."
   ]
  },
  {
   "cell_type": "markdown",
   "metadata": {},
   "source": [
    "### What's happening now?"
   ]
  },
  {
   "cell_type": "markdown",
   "metadata": {},
   "source": [
    "<img src=\"https://github.com/determined-ai/public_assets/blob/main/images/4GPUexperiment.png?raw=true\" align=\"left\" width=\"600\" />"
   ]
  },
  {
   "cell_type": "markdown",
   "metadata": {},
   "source": [
    "### Better Model performance"
   ]
  },
  {
   "cell_type": "code",
   "execution_count": null,
   "metadata": {},
   "outputs": [],
   "source": [
    "# Downloading checkpoints requires credentials to where the\n",
    "# checkpoints are stored. If your remote cluster is using GCS,\n",
    "# for example, you will need to launch a terminal in this Jupyter \n",
    "# instance and run the following:\n",
    "#\n",
    "# gcloud auth application-default login\n",
    "\n",
    "# Then, run the following to set your default project in GCP\n",
    "import os\n",
    "os.environ[\"GCLOUD_PROJECT\"] = \"your-gcp-project-id\""
   ]
  },
  {
   "cell_type": "code",
   "execution_count": null,
   "metadata": {},
   "outputs": [],
   "source": [
    "experiment_id = <experiment id>\n",
    "predict(experiment_id, \"test.jpg\", DET_MASTER)"
   ]
  },
  {
   "cell_type": "markdown",
   "metadata": {},
   "source": [
    "**Note**: *Model training is a stochastic process so expect variable results, especially with the shortened training time used in this experiment. Feel free to update the configuration `.yaml` files to train for more epochs to ensure convergence.*"
   ]
  },
  {
   "cell_type": "markdown",
   "metadata": {},
   "source": [
    "**Note**: *Experiments will take slightly longer the first time they are executed on any given Determined installation since Determined will pull the appropriate Docker containers to run the experiment. After the first run, the containers are cached and reused.*"
   ]
  },
  {
   "cell_type": "markdown",
   "metadata": {},
   "source": [
    "# **Cloud cluster**"
   ]
  },
  {
   "cell_type": "markdown",
   "metadata": {},
   "source": [
    "### Deploying a Determined Cluster to the cloud"
   ]
  },
  {
   "cell_type": "markdown",
   "metadata": {},
   "source": [
    "#### Example command to start a Determined Cluster in the cloud"
   ]
  },
  {
   "cell_type": "code",
   "execution_count": null,
   "metadata": {},
   "outputs": [],
   "source": [
    "# For GCP\n",
    "# !det-deploy gcp up --cluster-id <my-cluster> --project-id <your-gcp-project-id>\n",
    "\n",
    "# For AWS\n",
    "# !det-deploy aws up --cluster-id <my-cluster> --keypair <your-keypair-name>"
   ]
  },
  {
   "cell_type": "markdown",
   "metadata": {},
   "source": [
    "* Full GCP installation instructions: https://docs.determined.ai/latest/how-to/installation/gcp.html\n",
    "* Full AWS installation instructions: https://docs.determined.ai/latest/how-to/installation/aws.html"
   ]
  },
  {
   "cell_type": "markdown",
   "metadata": {},
   "source": [
    "-----"
   ]
  },
  {
   "cell_type": "markdown",
   "metadata": {},
   "source": [
    "#### Example configuration change to enable **Hyperparameter search**"
   ]
  },
  {
   "cell_type": "markdown",
   "metadata": {},
   "source": [
    "<img src=\"https://github.com/determined-ai/public_assets/blob/main/images/HyperparameterConfig.png?raw=true\" width=800 />"
   ]
  },
  {
   "cell_type": "markdown",
   "metadata": {},
   "source": [
    "### Launch a Distributed Hyperparameter search job"
   ]
  },
  {
   "cell_type": "code",
   "execution_count": null,
   "metadata": {},
   "outputs": [],
   "source": [
    "# DET_MASTER=\"your-remote-cluster-ip\" # if different than the one you set above"
   ]
  },
  {
   "cell_type": "code",
   "execution_count": null,
   "metadata": {},
   "outputs": [],
   "source": [
    "!det -m $DET_MASTER experiment create hyper.yaml ."
   ]
  },
  {
   "cell_type": "markdown",
   "metadata": {},
   "source": [
    "### What's happening in the cloud?"
   ]
  },
  {
   "cell_type": "markdown",
   "metadata": {},
   "source": [
    "<img src=\"https://github.com/determined-ai/public_assets/blob/main/images/HyperparamExp.png?raw=true\" align=\"left\" width=\"1000\" />"
   ]
  },
  {
   "cell_type": "code",
   "execution_count": null,
   "metadata": {},
   "outputs": [],
   "source": [
    "experiment_id = <experiment id>\n",
    "predict(experiment_id, \"test.jpg\", DET_MASTER)"
   ]
  },
  {
   "cell_type": "markdown",
   "metadata": {},
   "source": [
    "**Note**: *Model training is a stochastic process so expect variable results, especially with the shortened training time used in this experiment. Feel free to update the configuration `.yaml` files to train for more epochs to ensure convergence.*"
   ]
  },
  {
   "cell_type": "markdown",
   "metadata": {},
   "source": [
    "------"
   ]
  },
  {
   "cell_type": "markdown",
   "metadata": {},
   "source": [
    "# Conclusion"
   ]
  },
  {
   "cell_type": "markdown",
   "metadata": {},
   "source": [
    "### Determined enables you to:\n",
    "\n",
    "* Easily scale from your laptop to a GPU cluster\n",
    "* Automatically manage experiments, checkpoints, and model\n",
    "* Leverage advanced capabilities like Distributed Training and Hyperparameter Search"
   ]
  },
  {
   "cell_type": "markdown",
   "metadata": {},
   "source": [
    "### Keep in Touch!\n",
    "* [Determined Github](https://github.com/determined-ai/determined)\n",
    "* [Determined Community Slack](https://join.slack.com/t/determined-community/shared_invite/zt-cnj7802v-KcVbaUrIzQOwmkmY7gP0Ew)\n",
    "* hello@determined.ai"
   ]
  },
  {
   "cell_type": "markdown",
   "metadata": {},
   "source": [
    "If you have questions about this notebook or want to reach out to me directly, feel free to email me at hoang@determined.ai."
   ]
  },
  {
   "cell_type": "markdown",
   "metadata": {},
   "source": [
    "<img src=\"https://raw.githubusercontent.com/determined-ai/determined/master/determined-logo.png\" align='right' width=150 />"
   ]
  }
 ],
 "metadata": {
  "kernelspec": {
   "display_name": "Python 3",
   "language": "python",
   "name": "python3"
  },
  "language_info": {
   "codemirror_mode": {
    "name": "ipython",
    "version": 3
   },
   "file_extension": ".py",
   "mimetype": "text/x-python",
   "name": "python",
   "nbconvert_exporter": "python",
   "pygments_lexer": "ipython3",
   "version": "3.6.8"
  }
 },
 "nbformat": 4,
 "nbformat_minor": 4
}
